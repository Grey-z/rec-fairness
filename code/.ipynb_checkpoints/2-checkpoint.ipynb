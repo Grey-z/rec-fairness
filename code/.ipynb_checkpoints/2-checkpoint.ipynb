{
 "cells": [
  {
   "cell_type": "code",
   "execution_count": 1,
   "metadata": {},
   "outputs": [],
   "source": [
    "import tensorflow as tf\n",
    "import numpy as np\n",
    "import pandas as pd\n",
    "\n",
    "from sklearn.cluster import KMeans\n",
    "\n",
    "from criteo import create_criteo_dataset\n",
    "from utils import getFeature\n",
    "    \n",
    "data_file = '/home/nesa320/huizhong/fm/dataset/criteo/raw_data.txt'\n",
    "version = 1\n",
    "check_path = '/home/nesa320/huizhong/deepfm/save/deepfm-v' + str(version)+ '.ckpt'\n",
    "\n",
    "read_part = True\n",
    "sample_num = 100\n",
    "test_size = 0.2\n",
    "\n",
    "embed_dim = 8\n",
    "dnn_dropout = 0.5\n",
    "hidden_units = [256, 128, 64]\n",
    "\n",
    "learning_rate = 0.001\n",
    "batch_size = 1000\n",
    "epochs = 20\n",
    "\n",
    "model_name = '/deepfm'\n",
    "\n",
    "tune_data_file = '/home/nesa320/huizhong'  + model_name + '/dataset/test/tune.csv'\n",
    "f = open('/home/nesa320/huizhong/deepfm/feat.txt' , 'a')\n"
   ]
  },
  {
   "cell_type": "code",
   "execution_count": 2,
   "metadata": {},
   "outputs": [],
   "source": [
    "names = ['label', 'I1', 'I2', 'I3', 'I4', 'I5', 'I6', 'I7', 'I8', 'I9', 'I10', 'I11',\n",
    "             'I12', 'I13', 'C1', 'C2', 'C3', 'C4', 'C5', 'C6', 'C7', 'C8', 'C9', 'C10', 'C11',\n",
    "             'C12', 'C13', 'C14', 'C15', 'C16', 'C17', 'C18', 'C19', 'C20', 'C21', 'C22',\n",
    "             'C23', 'C24', 'C25', 'C26']\n",
    "\n",
    "tune = pd.read_csv(tune_data_file, sep=',', iterator=True, header=None,names = names)\n",
    "tune = tune.get_chunk(sample_num)\n",
    "tune = tune.reset_index(drop = True)\n",
    "tune = tune.drop([0])\n",
    "tune = tune.reset_index(drop = True)\n",
    "\n",
    "sparse_features = ['C' + str(i) for i in range(1, 27)]\n",
    "dense_features = ['I' + str(i) for i in range(1, 14)]\n",
    "features = sparse_features + dense_features\n",
    "\n",
    "tune_x = tune[features].values\n",
    "tune_y = tune['label'].values.astype('int32')\n"
   ]
  },
  {
   "cell_type": "code",
   "execution_count": 5,
   "metadata": {},
   "outputs": [
    {
     "data": {
      "text/plain": [
       "array(['30', '125', '199480', '563273', '43', '10', '6855', '23', '2',\n",
       "       '15021', '313', '2184842', '742', '17', '1627', '880132', '9',\n",
       "       '883', '0', '0', '1520485', '0', '4', '94590', '0', '0', '0.0',\n",
       "       '0.0', '0.0', '1.0', '0.0', '0.0', '0.0', '0.0', '2.0', '11.0',\n",
       "       '8.0', '0.0', '0.0'], dtype=object)"
      ]
     },
     "execution_count": 5,
     "metadata": {},
     "output_type": "execute_result"
    }
   ],
   "source": [
    "tune_x[1]"
   ]
  },
  {
   "cell_type": "code",
   "execution_count": 10,
   "metadata": {},
   "outputs": [],
   "source": [
    "x_cluster = KMeans(n_clusters=3, random_state=0).fit(tune_x)"
   ]
  },
  {
   "cell_type": "code",
   "execution_count": 13,
   "metadata": {},
   "outputs": [
    {
     "data": {
      "text/plain": [
       "35"
      ]
     },
     "execution_count": 13,
     "metadata": {},
     "output_type": "execute_result"
    }
   ],
   "source": [
    "count = 0\n",
    "for i in x_cluster.labels_:\n",
    "    if i == 2:\n",
    "        count = count + 1\n",
    "\n",
    "count"
   ]
  }
 ],
 "metadata": {
  "interpreter": {
   "hash": "5787f54122b8112ddf62392076e50ef7dcf335ec6048976deeb14e53a3dcbd4b"
  },
  "kernelspec": {
   "display_name": "Python 3.6.10 ('tf2gpu')",
   "language": "python",
   "name": "python3"
  },
  "language_info": {
   "codemirror_mode": {
    "name": "ipython",
    "version": 3
   },
   "file_extension": ".py",
   "mimetype": "text/x-python",
   "name": "python",
   "nbconvert_exporter": "python",
   "pygments_lexer": "ipython3",
   "version": "3.6.10"
  },
  "orig_nbformat": 4
 },
 "nbformat": 4,
 "nbformat_minor": 2
}
