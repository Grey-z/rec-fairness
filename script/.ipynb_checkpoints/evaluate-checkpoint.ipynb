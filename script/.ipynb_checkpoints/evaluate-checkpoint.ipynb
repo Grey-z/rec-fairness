{
 "cells": [
  {
   "cell_type": "code",
   "execution_count": 1,
   "id": "d63a9909-5c6d-42ec-a146-c2c94d7fe132",
   "metadata": {},
   "outputs": [
    {
     "name": "stderr",
     "output_type": "stream",
     "text": [
      "2022-05-24 16:49:34.310795: I tensorflow/stream_executor/platform/default/dso_loader.cc:48] Successfully opened dynamic library libcudart.so.10.1\n"
     ]
    }
   ],
   "source": [
    "import pandas\n",
    "import pandas as pd\n",
    "import numpy as np\n",
    "import sys\n",
    "from sklearn.metrics import log_loss, roc_auc_score\n",
    "from sklearn.model_selection import train_test_split\n",
    "from sklearn.preprocessing import LabelEncoder\n",
    "from tensorflow.python.keras.preprocessing.sequence import pad_sequences\n",
    "import tensorflow as tf\n",
    "from tqdm import tqdm\n",
    "\n",
    "deepctr_path = '/root/linghui/rec-fairness/'\n",
    "sys.path.append(deepctr_path)\n",
    "import deepctr\n",
    "from deepctr.models import DeepFM\n",
    "from deepctr.feature_column import SparseFeat, VarLenSparseFeat, get_feature_names"
   ]
  },
  {
   "cell_type": "code",
   "execution_count": 2,
   "id": "dfbfb42e-3192-4995-a78a-8727feb44f51",
   "metadata": {},
   "outputs": [],
   "source": [
    "saved_model_path = '/data/linghui/saved_model/deepfm-ml-1m/'\n",
    "\n",
    "saved_data_path = '/data/linghui/ml-1m/processed_data/'\n",
    "\n",
    "test_data_path = saved_data_path + 'test_data.csv'\n",
    "\n",
    "#load data\n",
    "test_data = pd.read_csv(test_data_path,index_col=0)"
   ]
  },
  {
   "cell_type": "code",
   "execution_count": 13,
   "id": "202d5b52-40bd-4017-bec8-584776c5edde",
   "metadata": {},
   "outputs": [
    {
     "name": "stderr",
     "output_type": "stream",
     "text": [
      "2022-05-23 19:31:25.643440: I tensorflow/stream_executor/platform/default/dso_loader.cc:48] Successfully opened dynamic library libcublas.so.10\n"
     ]
    },
    {
     "name": "stdout",
     "output_type": "stream",
     "text": [
      "1563/1563 [==============================] - 6s 4ms/step - loss: 0.4073 - auc: 0.9052 - precision: 0.8127 - recall: 0.8478\n"
     ]
    }
   ],
   "source": []
  },
  {
   "cell_type": "code",
   "execution_count": null,
   "id": "1978b619-d4dd-4f14-b856-33733661b8db",
   "metadata": {
    "jupyter": {
     "source_hidden": true
    },
    "tags": []
   },
   "outputs": [],
   "source": []
  },
  {
   "cell_type": "code",
   "execution_count": 3,
   "id": "d20730c2-de1f-4882-a259-064e82dbdfd1",
   "metadata": {},
   "outputs": [],
   "source": [
    "from utilis import *"
   ]
  },
  {
   "cell_type": "code",
   "execution_count": 8,
   "id": "f33a6492-8761-42b3-9e4a-ac7bd40ac59a",
   "metadata": {},
   "outputs": [],
   "source": [
    "# model_name: DeepFM / \n",
    "# cate : all-feat / del-sf\n",
    "\n",
    "model_params = {'model_name': 'DeepFM',\n",
    "                'cate': 'del-sf',\n",
    "                'embedding_dim': 4,\n",
    "                'batch_size': 256 }\n",
    "\n",
    "data_params = {'dataset': 'ml-1m'}\n",
    "\n",
    "check_path ,sparse_features = get_saved_model_details(model_params['model_name'], model_params['cate'])"
   ]
  },
  {
   "cell_type": "code",
   "execution_count": 9,
   "id": "45c94df2-7a6a-47c4-8bf2-a89af1365e1b",
   "metadata": {
    "collapsed": true,
    "jupyter": {
     "outputs_hidden": true
    },
    "tags": []
   },
   "outputs": [
    {
     "name": "stdout",
     "output_type": "stream",
     "text": [
      "Model: \"functional_3\"\n",
      "__________________________________________________________________________________________________\n",
      "Layer (type)                    Output Shape         Param #     Connected to                     \n",
      "==================================================================================================\n",
      "movie_id (InputLayer)           [(None, 1)]          0                                            \n",
      "__________________________________________________________________________________________________\n",
      "user_id (InputLayer)            [(None, 1)]          0                                            \n",
      "__________________________________________________________________________________________________\n",
      "sparse_emb_movie_id (Embedding) (None, 1, 4)         14824       movie_id[0][0]                   \n",
      "__________________________________________________________________________________________________\n",
      "sparse_emb_user_id (Embedding)  (None, 1, 4)         24160       user_id[0][0]                    \n",
      "__________________________________________________________________________________________________\n",
      "linear0sparse_emb_movie_id (Emb (None, 1, 1)         3706        movie_id[0][0]                   \n",
      "__________________________________________________________________________________________________\n",
      "linear0sparse_emb_user_id (Embe (None, 1, 1)         6040        user_id[0][0]                    \n",
      "__________________________________________________________________________________________________\n",
      "no_mask_7 (NoMask)              (None, 1, 4)         0           sparse_emb_movie_id[0][0]        \n",
      "                                                                 sparse_emb_user_id[0][0]         \n",
      "__________________________________________________________________________________________________\n",
      "no_mask_4 (NoMask)              (None, 1, 1)         0           linear0sparse_emb_movie_id[0][0] \n",
      "                                                                 linear0sparse_emb_user_id[0][0]  \n",
      "__________________________________________________________________________________________________\n",
      "no_mask_6 (NoMask)              (None, 1, 4)         0           sparse_emb_movie_id[0][0]        \n",
      "                                                                 sparse_emb_user_id[0][0]         \n",
      "__________________________________________________________________________________________________\n",
      "concatenate_5 (Concatenate)     (None, 1, 8)         0           no_mask_7[0][0]                  \n",
      "                                                                 no_mask_7[1][0]                  \n",
      "__________________________________________________________________________________________________\n",
      "concatenate_3 (Concatenate)     (None, 1, 2)         0           no_mask_4[0][0]                  \n",
      "                                                                 no_mask_4[1][0]                  \n",
      "__________________________________________________________________________________________________\n",
      "concatenate_4 (Concatenate)     (None, 2, 4)         0           no_mask_6[0][0]                  \n",
      "                                                                 no_mask_6[1][0]                  \n",
      "__________________________________________________________________________________________________\n",
      "flatten_1 (Flatten)             (None, 8)            0           concatenate_5[0][0]              \n",
      "__________________________________________________________________________________________________\n",
      "linear_1 (Linear)               (None, 1, 1)         0           concatenate_3[0][0]              \n",
      "__________________________________________________________________________________________________\n",
      "fm_1 (FM)                       (None, 1)            0           concatenate_4[0][0]              \n",
      "__________________________________________________________________________________________________\n",
      "dnn_1 (DNN)                     (None, 64)           43456       flatten_1[0][0]                  \n",
      "__________________________________________________________________________________________________\n",
      "no_mask_5 (NoMask)              (None, 1, 1)         0           linear_1[0][0]                   \n",
      "__________________________________________________________________________________________________\n",
      "add_2 (Add)                     (None, 1)            0           fm_1[0][0]                       \n",
      "__________________________________________________________________________________________________\n",
      "dense_1 (Dense)                 (None, 1)            64          dnn_1[0][0]                      \n",
      "__________________________________________________________________________________________________\n",
      "add_3 (Add)                     (None, 1, 1)         0           no_mask_5[0][0]                  \n",
      "                                                                 add_2[0][0]                      \n",
      "                                                                 dense_1[0][0]                    \n",
      "__________________________________________________________________________________________________\n",
      "prediction_layer_1 (PredictionL (None, 1)            1           add_3[0][0]                      \n",
      "==================================================================================================\n",
      "Total params: 92,251\n",
      "Trainable params: 92,251\n",
      "Non-trainable params: 0\n",
      "__________________________________________________________________________________________________\n"
     ]
    }
   ],
   "source": [
    "model = get_model(model_params,data_params)"
   ]
  },
  {
   "cell_type": "code",
   "execution_count": 10,
   "id": "a6842045-275f-4aaf-b072-fc2c065929b7",
   "metadata": {
    "tags": []
   },
   "outputs": [],
   "source": [
    "test_input = {name: test_data[name].values for name in sparse_features}\n",
    "label = test_data['rating'].values"
   ]
  },
  {
   "cell_type": "code",
   "execution_count": 11,
   "id": "405c32c6-89d0-4c74-93c7-40f6ad6a02f0",
   "metadata": {},
   "outputs": [
    {
     "name": "stdout",
     "output_type": "stream",
     "text": [
      "1563/1563 [==============================] - 4s 3ms/step - loss: 0.4104 - auc: 0.9018 - precision: 0.8087 - recall: 0.8444\n"
     ]
    }
   ],
   "source": [
    "batch_size = model_params['batch_size']\n",
    "test_auc = model.evaluate(test_input, label, batch_size=batch_size)[1]"
   ]
  }
 ],
 "metadata": {
  "kernelspec": {
   "display_name": "Python 3 (ipykernel)",
   "language": "python",
   "name": "python3"
  },
  "language_info": {
   "codemirror_mode": {
    "name": "ipython",
    "version": 3
   },
   "file_extension": ".py",
   "mimetype": "text/x-python",
   "name": "python",
   "nbconvert_exporter": "python",
   "pygments_lexer": "ipython3",
   "version": "3.8.1"
  }
 },
 "nbformat": 4,
 "nbformat_minor": 5
}
