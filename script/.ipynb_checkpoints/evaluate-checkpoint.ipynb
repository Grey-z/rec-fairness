{
 "cells": [
  {
   "cell_type": "code",
   "execution_count": null,
   "id": "d63a9909-5c6d-42ec-a146-c2c94d7fe132",
   "metadata": {},
   "outputs": [],
   "source": [
    "import pandas\n",
    "import pandas as pd\n",
    "import numpy as np\n",
    "import sys\n",
    "from sklearn.metrics import log_loss, roc_auc_score\n",
    "from sklearn.model_selection import train_test_split\n",
    "from sklearn.preprocessing import LabelEncoder\n",
    "from tensorflow.python.keras.preprocessing.sequence import pad_sequences\n",
    "import tensorflow as tf\n",
    "from tqdm import tqdm\n",
    "\n",
    "deepctr_path = '/root/linghui/rec-fairness/'\n",
    "sys.path.append(deepctr_path)\n",
    "import deepctr\n",
    "from deepctr.models import DeepFM\n",
    "from deepctr.feature_column import SparseFeat, VarLenSparseFeat, get_feature_names"
   ]
  },
  {
   "cell_type": "code",
   "execution_count": null,
   "id": "dfbfb42e-3192-4995-a78a-8727feb44f51",
   "metadata": {},
   "outputs": [],
   "source": [
    "saved_model_path = '/data/linghui/saved_model/deepfm-ml-1m/'\n",
    "\n",
    "saved_data_path = '/data/linghui/ml-1m/processed_data/'\n",
    "\n",
    "test_data_path = saved_data_path + 'test_data.csv'\n",
    "\n",
    "#load data\n",
    "test_data = pd.read_csv(test_data_path,index_col=0)"
   ]
  },
  {
   "cell_type": "code",
   "execution_count": null,
   "id": "1e1d6b5c-b08b-4b68-98e2-98f5b516a95f",
   "metadata": {},
   "outputs": [],
   "source": [
    "model_del_sf_path = saved_model_path + 'deepfm-del-sf/deepfm-ml-1m-del-sf.ckpt'\n",
    "model_all_feat_path = saved_model_path + 'deepfm-all-feature/deepfm-ml-1m.ckpt' "
   ]
  }
 ],
 "metadata": {
  "kernelspec": {
   "display_name": "Python 3 (ipykernel)",
   "language": "python",
   "name": "python3"
  },
  "language_info": {
   "codemirror_mode": {
    "name": "ipython",
    "version": 3
   },
   "file_extension": ".py",
   "mimetype": "text/x-python",
   "name": "python",
   "nbconvert_exporter": "python",
   "pygments_lexer": "ipython3",
   "version": "3.8.1"
  }
 },
 "nbformat": 4,
 "nbformat_minor": 5
}
