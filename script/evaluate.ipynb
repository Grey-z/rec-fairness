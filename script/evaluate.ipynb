{
 "cells": [
  {
   "cell_type": "code",
   "execution_count": 1,
   "id": "d63a9909-5c6d-42ec-a146-c2c94d7fe132",
   "metadata": {},
   "outputs": [
    {
     "name": "stderr",
     "output_type": "stream",
     "text": [
      "2022-05-23 19:25:57.212685: I tensorflow/stream_executor/platform/default/dso_loader.cc:48] Successfully opened dynamic library libcudart.so.10.1\n"
     ]
    }
   ],
   "source": [
    "import pandas\n",
    "import pandas as pd\n",
    "import numpy as np\n",
    "import sys\n",
    "from sklearn.metrics import log_loss, roc_auc_score\n",
    "from sklearn.model_selection import train_test_split\n",
    "from sklearn.preprocessing import LabelEncoder\n",
    "from tensorflow.python.keras.preprocessing.sequence import pad_sequences\n",
    "import tensorflow as tf\n",
    "from tqdm import tqdm\n",
    "\n",
    "deepctr_path = '/root/linghui/rec-fairness/'\n",
    "sys.path.append(deepctr_path)\n",
    "import deepctr\n",
    "from deepctr.models import DeepFM\n",
    "from deepctr.feature_column import SparseFeat, VarLenSparseFeat, get_feature_names"
   ]
  },
  {
   "cell_type": "code",
   "execution_count": 2,
   "id": "dfbfb42e-3192-4995-a78a-8727feb44f51",
   "metadata": {},
   "outputs": [],
   "source": [
    "saved_model_path = '/data/linghui/saved_model/deepfm-ml-1m/'\n",
    "\n",
    "saved_data_path = '/data/linghui/ml-1m/processed_data/'\n",
    "\n",
    "test_data_path = saved_data_path + 'test_data.csv'\n",
    "\n",
    "#load data\n",
    "test_data = pd.read_csv(test_data_path,index_col=0)"
   ]
  },
  {
   "cell_type": "code",
   "execution_count": 3,
   "id": "1e1d6b5c-b08b-4b68-98e2-98f5b516a95f",
   "metadata": {},
   "outputs": [],
   "source": [
    "model_del_sf_path = saved_model_path + 'deepfm-del-sf/deepfm-ml-1m-del-sf.ckpt'\n",
    "model_all_feat_path = saved_model_path + 'deepfm-all-feature/deepfm-ml-1m.ckpt' "
   ]
  },
  {
   "cell_type": "code",
   "execution_count": 7,
   "id": "77190ea2-cf1b-4c3f-b857-72a1735831a1",
   "metadata": {},
   "outputs": [],
   "source": [
    "def get_feat_dict(data):\n",
    "    if data == 'ml-1m':\n",
    "        feat_dict = {'movie_id': 3706,\n",
    "                 'user_id': 6040,\n",
    "                 'gender': 2,\n",
    "                 'age': 7,\n",
    "                 'occupation': 21,\n",
    "                 'zipcode': 3439}\n",
    "    return feat_dict\n",
    "dataset = 'ml-1m'\n",
    "feat_dict = get_feat_dict(dataset)"
   ]
  },
  {
   "cell_type": "code",
   "execution_count": 8,
   "id": "ff012fe6-5728-4c22-aa02-0a26777c29bd",
   "metadata": {},
   "outputs": [],
   "source": [
    "sparse_features = [\"movie_id\", \"user_id\",\n",
    "                   \"gender\", \"age\", \"occupation\", \"zipcode\"]\n",
    "\n",
    "selected_feature = [\"movie_id\", \"user_id\"]\n",
    "\n",
    "fixlen_feature_columns = [SparseFeat(feat, feat_dict[feat], embedding_dim=4)\n",
    "\t\t\t\t\t\t\t\t  for feat in sparse_features]\n",
    "linear_feature_columns = fixlen_feature_columns \n",
    "dnn_feature_columns = fixlen_feature_columns \n",
    "\n",
    "feature_names = get_feature_names(linear_feature_columns + dnn_feature_columns)"
   ]
  },
  {
   "cell_type": "code",
   "execution_count": 10,
   "id": "6bb1534b-4c6c-4deb-a34c-2dc31088bc77",
   "metadata": {
    "collapsed": true,
    "jupyter": {
     "outputs_hidden": true
    },
    "tags": []
   },
   "outputs": [
    {
     "name": "stdout",
     "output_type": "stream",
     "text": [
      "WARNING:tensorflow:Unresolved object in checkpoint: (root).optimizer\n",
      "WARNING:tensorflow:Unresolved object in checkpoint: (root).optimizer.iter\n",
      "WARNING:tensorflow:Unresolved object in checkpoint: (root).optimizer.beta_1\n",
      "WARNING:tensorflow:Unresolved object in checkpoint: (root).optimizer.beta_2\n",
      "WARNING:tensorflow:Unresolved object in checkpoint: (root).optimizer.decay\n",
      "WARNING:tensorflow:Unresolved object in checkpoint: (root).optimizer.learning_rate\n",
      "WARNING:tensorflow:Unresolved object in checkpoint: (root).optimizer's state 'm' for (root).layer_with_weights-0.embeddings\n",
      "WARNING:tensorflow:Unresolved object in checkpoint: (root).optimizer's state 'm' for (root).layer_with_weights-1.embeddings\n",
      "WARNING:tensorflow:Unresolved object in checkpoint: (root).optimizer's state 'm' for (root).layer_with_weights-2.embeddings\n",
      "WARNING:tensorflow:Unresolved object in checkpoint: (root).optimizer's state 'm' for (root).layer_with_weights-3.embeddings\n",
      "WARNING:tensorflow:Unresolved object in checkpoint: (root).optimizer's state 'm' for (root).layer_with_weights-4.embeddings\n",
      "WARNING:tensorflow:Unresolved object in checkpoint: (root).optimizer's state 'm' for (root).layer_with_weights-5.embeddings\n",
      "WARNING:tensorflow:Unresolved object in checkpoint: (root).optimizer's state 'm' for (root).layer_with_weights-6.embeddings\n",
      "WARNING:tensorflow:Unresolved object in checkpoint: (root).optimizer's state 'm' for (root).layer_with_weights-7.embeddings\n",
      "WARNING:tensorflow:Unresolved object in checkpoint: (root).optimizer's state 'm' for (root).layer_with_weights-8.embeddings\n",
      "WARNING:tensorflow:Unresolved object in checkpoint: (root).optimizer's state 'm' for (root).layer_with_weights-9.embeddings\n",
      "WARNING:tensorflow:Unresolved object in checkpoint: (root).optimizer's state 'm' for (root).layer_with_weights-10.embeddings\n",
      "WARNING:tensorflow:Unresolved object in checkpoint: (root).optimizer's state 'm' for (root).layer_with_weights-11.embeddings\n",
      "WARNING:tensorflow:Unresolved object in checkpoint: (root).optimizer's state 'm' for (root).layer_with_weights-12.kernel0\n",
      "WARNING:tensorflow:Unresolved object in checkpoint: (root).optimizer's state 'm' for (root).layer_with_weights-12.kernel1\n",
      "WARNING:tensorflow:Unresolved object in checkpoint: (root).optimizer's state 'm' for (root).layer_with_weights-12.kernel2\n",
      "WARNING:tensorflow:Unresolved object in checkpoint: (root).optimizer's state 'm' for (root).layer_with_weights-12.bias0\n",
      "WARNING:tensorflow:Unresolved object in checkpoint: (root).optimizer's state 'm' for (root).layer_with_weights-12.bias1\n",
      "WARNING:tensorflow:Unresolved object in checkpoint: (root).optimizer's state 'm' for (root).layer_with_weights-12.bias2\n",
      "WARNING:tensorflow:Unresolved object in checkpoint: (root).optimizer's state 'm' for (root).layer_with_weights-13.kernel\n",
      "WARNING:tensorflow:Unresolved object in checkpoint: (root).optimizer's state 'm' for (root).layer_with_weights-14.global_bias\n",
      "WARNING:tensorflow:Unresolved object in checkpoint: (root).optimizer's state 'v' for (root).layer_with_weights-0.embeddings\n",
      "WARNING:tensorflow:Unresolved object in checkpoint: (root).optimizer's state 'v' for (root).layer_with_weights-1.embeddings\n",
      "WARNING:tensorflow:Unresolved object in checkpoint: (root).optimizer's state 'v' for (root).layer_with_weights-2.embeddings\n",
      "WARNING:tensorflow:Unresolved object in checkpoint: (root).optimizer's state 'v' for (root).layer_with_weights-3.embeddings\n",
      "WARNING:tensorflow:Unresolved object in checkpoint: (root).optimizer's state 'v' for (root).layer_with_weights-4.embeddings\n",
      "WARNING:tensorflow:Unresolved object in checkpoint: (root).optimizer's state 'v' for (root).layer_with_weights-5.embeddings\n",
      "WARNING:tensorflow:Unresolved object in checkpoint: (root).optimizer's state 'v' for (root).layer_with_weights-6.embeddings\n",
      "WARNING:tensorflow:Unresolved object in checkpoint: (root).optimizer's state 'v' for (root).layer_with_weights-7.embeddings\n",
      "WARNING:tensorflow:Unresolved object in checkpoint: (root).optimizer's state 'v' for (root).layer_with_weights-8.embeddings\n",
      "WARNING:tensorflow:Unresolved object in checkpoint: (root).optimizer's state 'v' for (root).layer_with_weights-9.embeddings\n",
      "WARNING:tensorflow:Unresolved object in checkpoint: (root).optimizer's state 'v' for (root).layer_with_weights-10.embeddings\n",
      "WARNING:tensorflow:Unresolved object in checkpoint: (root).optimizer's state 'v' for (root).layer_with_weights-11.embeddings\n",
      "WARNING:tensorflow:Unresolved object in checkpoint: (root).optimizer's state 'v' for (root).layer_with_weights-12.kernel0\n",
      "WARNING:tensorflow:Unresolved object in checkpoint: (root).optimizer's state 'v' for (root).layer_with_weights-12.kernel1\n",
      "WARNING:tensorflow:Unresolved object in checkpoint: (root).optimizer's state 'v' for (root).layer_with_weights-12.kernel2\n",
      "WARNING:tensorflow:Unresolved object in checkpoint: (root).optimizer's state 'v' for (root).layer_with_weights-12.bias0\n",
      "WARNING:tensorflow:Unresolved object in checkpoint: (root).optimizer's state 'v' for (root).layer_with_weights-12.bias1\n",
      "WARNING:tensorflow:Unresolved object in checkpoint: (root).optimizer's state 'v' for (root).layer_with_weights-12.bias2\n",
      "WARNING:tensorflow:Unresolved object in checkpoint: (root).optimizer's state 'v' for (root).layer_with_weights-13.kernel\n",
      "WARNING:tensorflow:Unresolved object in checkpoint: (root).optimizer's state 'v' for (root).layer_with_weights-14.global_bias\n",
      "WARNING:tensorflow:A checkpoint was restored (e.g. tf.train.Checkpoint.restore or tf.keras.Model.load_weights) but not all checkpointed values were used. See above for specific issues. Use expect_partial() on the load status object, e.g. tf.train.Checkpoint.restore(...).expect_partial(), to silence these warnings, or use assert_consumed() to make the check explicit. See https://www.tensorflow.org/guide/checkpoint#loading_mechanics for details.\n",
      "Model: \"functional_3\"\n",
      "__________________________________________________________________________________________________\n",
      "Layer (type)                    Output Shape         Param #     Connected to                     \n",
      "==================================================================================================\n",
      "movie_id (InputLayer)           [(None, 1)]          0                                            \n",
      "__________________________________________________________________________________________________\n",
      "user_id (InputLayer)            [(None, 1)]          0                                            \n",
      "__________________________________________________________________________________________________\n",
      "gender (InputLayer)             [(None, 1)]          0                                            \n",
      "__________________________________________________________________________________________________\n",
      "age (InputLayer)                [(None, 1)]          0                                            \n",
      "__________________________________________________________________________________________________\n",
      "occupation (InputLayer)         [(None, 1)]          0                                            \n",
      "__________________________________________________________________________________________________\n",
      "zipcode (InputLayer)            [(None, 1)]          0                                            \n",
      "__________________________________________________________________________________________________\n",
      "sparse_emb_movie_id (Embedding) (None, 1, 4)         14824       movie_id[0][0]                   \n",
      "__________________________________________________________________________________________________\n",
      "sparse_emb_user_id (Embedding)  (None, 1, 4)         24160       user_id[0][0]                    \n",
      "__________________________________________________________________________________________________\n",
      "sparse_emb_gender (Embedding)   (None, 1, 4)         8           gender[0][0]                     \n",
      "__________________________________________________________________________________________________\n",
      "sparse_emb_age (Embedding)      (None, 1, 4)         28          age[0][0]                        \n",
      "__________________________________________________________________________________________________\n",
      "sparse_emb_occupation (Embeddin (None, 1, 4)         84          occupation[0][0]                 \n",
      "__________________________________________________________________________________________________\n",
      "sparse_emb_zipcode (Embedding)  (None, 1, 4)         13756       zipcode[0][0]                    \n",
      "__________________________________________________________________________________________________\n",
      "linear0sparse_emb_movie_id (Emb (None, 1, 1)         3706        movie_id[0][0]                   \n",
      "__________________________________________________________________________________________________\n",
      "linear0sparse_emb_user_id (Embe (None, 1, 1)         6040        user_id[0][0]                    \n",
      "__________________________________________________________________________________________________\n",
      "linear0sparse_emb_gender (Embed (None, 1, 1)         2           gender[0][0]                     \n",
      "__________________________________________________________________________________________________\n",
      "linear0sparse_emb_age (Embeddin (None, 1, 1)         7           age[0][0]                        \n",
      "__________________________________________________________________________________________________\n",
      "linear0sparse_emb_occupation (E (None, 1, 1)         21          occupation[0][0]                 \n",
      "__________________________________________________________________________________________________\n",
      "linear0sparse_emb_zipcode (Embe (None, 1, 1)         3439        zipcode[0][0]                    \n",
      "__________________________________________________________________________________________________\n",
      "no_mask_7 (NoMask)              (None, 1, 4)         0           sparse_emb_movie_id[0][0]        \n",
      "                                                                 sparse_emb_user_id[0][0]         \n",
      "                                                                 sparse_emb_gender[0][0]          \n",
      "                                                                 sparse_emb_age[0][0]             \n",
      "                                                                 sparse_emb_occupation[0][0]      \n",
      "                                                                 sparse_emb_zipcode[0][0]         \n",
      "__________________________________________________________________________________________________\n",
      "no_mask_4 (NoMask)              (None, 1, 1)         0           linear0sparse_emb_movie_id[0][0] \n",
      "                                                                 linear0sparse_emb_user_id[0][0]  \n",
      "                                                                 linear0sparse_emb_gender[0][0]   \n",
      "                                                                 linear0sparse_emb_age[0][0]      \n",
      "                                                                 linear0sparse_emb_occupation[0][0\n",
      "                                                                 linear0sparse_emb_zipcode[0][0]  \n",
      "__________________________________________________________________________________________________\n",
      "no_mask_6 (NoMask)              (None, 1, 4)         0           sparse_emb_movie_id[0][0]        \n",
      "                                                                 sparse_emb_user_id[0][0]         \n",
      "                                                                 sparse_emb_gender[0][0]          \n",
      "                                                                 sparse_emb_age[0][0]             \n",
      "                                                                 sparse_emb_occupation[0][0]      \n",
      "                                                                 sparse_emb_zipcode[0][0]         \n",
      "__________________________________________________________________________________________________\n",
      "concatenate_5 (Concatenate)     (None, 1, 24)        0           no_mask_7[0][0]                  \n",
      "                                                                 no_mask_7[1][0]                  \n",
      "                                                                 no_mask_7[2][0]                  \n",
      "                                                                 no_mask_7[3][0]                  \n",
      "                                                                 no_mask_7[4][0]                  \n",
      "                                                                 no_mask_7[5][0]                  \n",
      "__________________________________________________________________________________________________\n",
      "concatenate_3 (Concatenate)     (None, 1, 6)         0           no_mask_4[0][0]                  \n",
      "                                                                 no_mask_4[1][0]                  \n",
      "                                                                 no_mask_4[2][0]                  \n",
      "                                                                 no_mask_4[3][0]                  \n",
      "                                                                 no_mask_4[4][0]                  \n",
      "                                                                 no_mask_4[5][0]                  \n",
      "__________________________________________________________________________________________________\n",
      "concatenate_4 (Concatenate)     (None, 6, 4)         0           no_mask_6[0][0]                  \n",
      "                                                                 no_mask_6[1][0]                  \n",
      "                                                                 no_mask_6[2][0]                  \n",
      "                                                                 no_mask_6[3][0]                  \n",
      "                                                                 no_mask_6[4][0]                  \n",
      "                                                                 no_mask_6[5][0]                  \n",
      "__________________________________________________________________________________________________\n",
      "flatten_1 (Flatten)             (None, 24)           0           concatenate_5[0][0]              \n",
      "__________________________________________________________________________________________________\n",
      "linear_1 (Linear)               (None, 1, 1)         0           concatenate_3[0][0]              \n",
      "__________________________________________________________________________________________________\n",
      "fm_1 (FM)                       (None, 1)            0           concatenate_4[0][0]              \n",
      "__________________________________________________________________________________________________\n",
      "dnn_1 (DNN)                     (None, 64)           47552       flatten_1[0][0]                  \n",
      "__________________________________________________________________________________________________\n",
      "no_mask_5 (NoMask)              (None, 1, 1)         0           linear_1[0][0]                   \n",
      "__________________________________________________________________________________________________\n",
      "add_2 (Add)                     (None, 1)            0           fm_1[0][0]                       \n",
      "__________________________________________________________________________________________________\n",
      "dense_1 (Dense)                 (None, 1)            64          dnn_1[0][0]                      \n",
      "__________________________________________________________________________________________________\n",
      "add_3 (Add)                     (None, 1, 1)         0           no_mask_5[0][0]                  \n",
      "                                                                 add_2[0][0]                      \n",
      "                                                                 dense_1[0][0]                    \n",
      "__________________________________________________________________________________________________\n",
      "prediction_layer_1 (PredictionL (None, 1)            1           add_3[0][0]                      \n",
      "==================================================================================================\n",
      "Total params: 113,692\n",
      "Trainable params: 113,692\n",
      "Non-trainable params: 0\n",
      "__________________________________________________________________________________________________\n"
     ]
    }
   ],
   "source": [
    "check_path = model_all_feat_path\n",
    "model = DeepFM(linear_feature_columns, dnn_feature_columns, task='binary')\n",
    "model.summary()\n",
    "model.load_weights(check_path)\n",
    "\n",
    "model.compile(optimizer=tf.keras.optimizers.Adam(), loss='binary_crossentropy',\n",
    "              metrics=['AUC', 'Precision', 'Recall'])"
   ]
  },
  {
   "cell_type": "code",
   "execution_count": 12,
   "id": "719ef327-5075-41a1-9965-26d2b4203100",
   "metadata": {},
   "outputs": [],
   "source": [
    "test_input = {name: test_data[name].values for name in sparse_features}\n",
    "label = test_data['rating'].values"
   ]
  },
  {
   "cell_type": "code",
   "execution_count": 13,
   "id": "202d5b52-40bd-4017-bec8-584776c5edde",
   "metadata": {},
   "outputs": [
    {
     "name": "stderr",
     "output_type": "stream",
     "text": [
      "2022-05-23 19:31:25.643440: I tensorflow/stream_executor/platform/default/dso_loader.cc:48] Successfully opened dynamic library libcublas.so.10\n"
     ]
    },
    {
     "name": "stdout",
     "output_type": "stream",
     "text": [
      "1563/1563 [==============================] - 6s 4ms/step - loss: 0.4073 - auc: 0.9052 - precision: 0.8127 - recall: 0.8478\n"
     ]
    }
   ],
   "source": [
    "batch_size = 256\n",
    "test_auc = model.evaluate(test_input, label, batch_size=batch_size)[1]"
   ]
  },
  {
   "cell_type": "code",
   "execution_count": 14,
   "id": "5063b0b7-8464-42d0-a1af-d58c4fd6865f",
   "metadata": {},
   "outputs": [
    {
     "data": {
      "text/plain": [
       "0.9052456617355347"
      ]
     },
     "execution_count": 14,
     "metadata": {},
     "output_type": "execute_result"
    }
   ],
   "source": [
    "test_auc"
   ]
  },
  {
   "cell_type": "code",
   "execution_count": 16,
   "id": "7d03a718-1f4a-4bf1-91b4-0d4f96181f91",
   "metadata": {},
   "outputs": [],
   "source": [
    "fixlen_feature_columns_del_sf = [SparseFeat(feat, feat_dict[feat], embedding_dim=4)\n",
    "\t\t\t\t\t\t\t\t  for feat in selected_feature]\n",
    "linear_feature_columns_del_sf = fixlen_feature_columns_del_sf \n",
    "dnn_feature_columns_del_sf = fixlen_feature_columns_del_sf \n",
    "\n",
    "feature_names = get_feature_names(linear_feature_columns_del_sf + dnn_feature_columns_del_sf)"
   ]
  },
  {
   "cell_type": "code",
   "execution_count": 17,
   "id": "5385eb23-2927-4404-8560-865211c361d2",
   "metadata": {
    "collapsed": true,
    "jupyter": {
     "outputs_hidden": true
    },
    "tags": []
   },
   "outputs": [
    {
     "name": "stdout",
     "output_type": "stream",
     "text": [
      "Model: \"functional_5\"\n",
      "__________________________________________________________________________________________________\n",
      "Layer (type)                    Output Shape         Param #     Connected to                     \n",
      "==================================================================================================\n",
      "movie_id (InputLayer)           [(None, 1)]          0                                            \n",
      "__________________________________________________________________________________________________\n",
      "user_id (InputLayer)            [(None, 1)]          0                                            \n",
      "__________________________________________________________________________________________________\n",
      "sparse_emb_movie_id (Embedding) (None, 1, 4)         14824       movie_id[0][0]                   \n",
      "__________________________________________________________________________________________________\n",
      "sparse_emb_user_id (Embedding)  (None, 1, 4)         24160       user_id[0][0]                    \n",
      "__________________________________________________________________________________________________\n",
      "linear0sparse_emb_movie_id (Emb (None, 1, 1)         3706        movie_id[0][0]                   \n",
      "__________________________________________________________________________________________________\n",
      "linear0sparse_emb_user_id (Embe (None, 1, 1)         6040        user_id[0][0]                    \n",
      "__________________________________________________________________________________________________\n",
      "no_mask_11 (NoMask)             (None, 1, 4)         0           sparse_emb_movie_id[0][0]        \n",
      "                                                                 sparse_emb_user_id[0][0]         \n",
      "__________________________________________________________________________________________________\n",
      "no_mask_8 (NoMask)              (None, 1, 1)         0           linear0sparse_emb_movie_id[0][0] \n",
      "                                                                 linear0sparse_emb_user_id[0][0]  \n",
      "__________________________________________________________________________________________________\n",
      "no_mask_10 (NoMask)             (None, 1, 4)         0           sparse_emb_movie_id[0][0]        \n",
      "                                                                 sparse_emb_user_id[0][0]         \n",
      "__________________________________________________________________________________________________\n",
      "concatenate_8 (Concatenate)     (None, 1, 8)         0           no_mask_11[0][0]                 \n",
      "                                                                 no_mask_11[1][0]                 \n",
      "__________________________________________________________________________________________________\n",
      "concatenate_6 (Concatenate)     (None, 1, 2)         0           no_mask_8[0][0]                  \n",
      "                                                                 no_mask_8[1][0]                  \n",
      "__________________________________________________________________________________________________\n",
      "concatenate_7 (Concatenate)     (None, 2, 4)         0           no_mask_10[0][0]                 \n",
      "                                                                 no_mask_10[1][0]                 \n",
      "__________________________________________________________________________________________________\n",
      "flatten_2 (Flatten)             (None, 8)            0           concatenate_8[0][0]              \n",
      "__________________________________________________________________________________________________\n",
      "linear_2 (Linear)               (None, 1, 1)         0           concatenate_6[0][0]              \n",
      "__________________________________________________________________________________________________\n",
      "fm_2 (FM)                       (None, 1)            0           concatenate_7[0][0]              \n",
      "__________________________________________________________________________________________________\n",
      "dnn_2 (DNN)                     (None, 64)           43456       flatten_2[0][0]                  \n",
      "__________________________________________________________________________________________________\n",
      "no_mask_9 (NoMask)              (None, 1, 1)         0           linear_2[0][0]                   \n",
      "__________________________________________________________________________________________________\n",
      "add_4 (Add)                     (None, 1)            0           fm_2[0][0]                       \n",
      "__________________________________________________________________________________________________\n",
      "dense_2 (Dense)                 (None, 1)            64          dnn_2[0][0]                      \n",
      "__________________________________________________________________________________________________\n",
      "add_5 (Add)                     (None, 1, 1)         0           no_mask_9[0][0]                  \n",
      "                                                                 add_4[0][0]                      \n",
      "                                                                 dense_2[0][0]                    \n",
      "__________________________________________________________________________________________________\n",
      "prediction_layer_2 (PredictionL (None, 1)            1           add_5[0][0]                      \n",
      "==================================================================================================\n",
      "Total params: 92,251\n",
      "Trainable params: 92,251\n",
      "Non-trainable params: 0\n",
      "__________________________________________________________________________________________________\n"
     ]
    }
   ],
   "source": [
    "check_path = model_del_sf_path\n",
    "model = DeepFM(linear_feature_columns_del_sf, dnn_feature_columns_del_sf, task='binary')\n",
    "model.summary()\n",
    "model.load_weights(check_path)\n",
    "\n",
    "model.compile(optimizer=tf.keras.optimizers.Adam(), loss='binary_crossentropy',\n",
    "              metrics=['AUC', 'Precision', 'Recall'])"
   ]
  },
  {
   "cell_type": "code",
   "execution_count": 18,
   "id": "cf038879-9d9e-45cc-9c6d-46745c995300",
   "metadata": {},
   "outputs": [
    {
     "name": "stderr",
     "output_type": "stream",
     "text": [
      "/opt/conda/lib/python3.8/site-packages/tensorflow/python/keras/engine/functional.py:540: UserWarning: Input dict contained keys ['gender', 'age', 'occupation', 'zipcode'] which did not match any model input. They will be ignored by the model.\n",
      "  warnings.warn(\n"
     ]
    },
    {
     "name": "stdout",
     "output_type": "stream",
     "text": [
      "1563/1563 [==============================] - 5s 3ms/step - loss: 0.4104 - auc: 0.9018 - precision: 0.8087 - recall: 0.8444\n"
     ]
    }
   ],
   "source": [
    "batch_size = 256\n",
    "test_auc = model.evaluate(test_input, label, batch_size=batch_size)[1]"
   ]
  },
  {
   "cell_type": "code",
   "execution_count": null,
   "id": "1978b619-d4dd-4f14-b856-33733661b8db",
   "metadata": {},
   "outputs": [],
   "source": [
    "test_auc"
   ]
  }
 ],
 "metadata": {
  "kernelspec": {
   "display_name": "Python 3 (ipykernel)",
   "language": "python",
   "name": "python3"
  },
  "language_info": {
   "codemirror_mode": {
    "name": "ipython",
    "version": 3
   },
   "file_extension": ".py",
   "mimetype": "text/x-python",
   "name": "python",
   "nbconvert_exporter": "python",
   "pygments_lexer": "ipython3",
   "version": "3.8.1"
  }
 },
 "nbformat": 4,
 "nbformat_minor": 5
}
